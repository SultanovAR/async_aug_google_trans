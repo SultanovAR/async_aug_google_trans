{
 "cells": [
  {
   "cell_type": "code",
   "execution_count": 32,
   "metadata": {},
   "outputs": [],
   "source": [
    "from aiogoogletrans import Translator as aio_Translator\n",
    "from googletrans import Translator as syn_Translator\n",
    "import asyncio        \n",
    "from itertools import takewhile, repeat\n",
    "import pandas as pd\n",
    "import numpy as np\n",
    "loop = asyncio.get_event_loop()"
   ]
  },
  {
   "cell_type": "code",
   "execution_count": 16,
   "metadata": {},
   "outputs": [
    {
     "ename": "IndentationError",
     "evalue": "expected an indented block (<ipython-input-16-f88d7478f9fe>, line 15)",
     "output_type": "error",
     "traceback": [
      "\u001b[0;36m  File \u001b[0;32m\"<ipython-input-16-f88d7478f9fe>\"\u001b[0;36m, line \u001b[0;32m15\u001b[0m\n\u001b[0;31m    return\u001b[0m\n\u001b[0m         ^\u001b[0m\n\u001b[0;31mIndentationError\u001b[0m\u001b[0;31m:\u001b[0m expected an indented block\n"
     ]
    }
   ],
   "source": [
    "class AugGoogleTrans:\n",
    "    \n",
    "    class _Spliter:\n",
    "        def __init__(self, path, num_worker):\n",
    "            self.path = path\n",
    "            self.num_worker = num_worker\n",
    "            \n",
    "\n",
    "        def rawincount(filename):\n",
    "            f = open(filename, 'rb')\n",
    "            bufgen = takewhile(lambda x: x, (f.raw.read(1024*1024) for _ in repeat(None)))\n",
    "            return sum( buf.count(b'\\n') for buf in bufgen )\n",
    "        \n",
    "        def split_csv(self):\n",
    "            df = np.array(pd.read_csv(path))\n",
    "            row_per_worker = len(df)/self.num_worker\n",
    "            return np.split(df, np.arange(row_per_worker, len(df), row_per_worker))\n",
    "        \n",
    "        def split_file(self):\n",
    "            with open(path, 'r') as f:\n",
    "                chunk = []\n",
    "                for row in f:\n",
    "                    chunk.append(row)\n",
    "                    if len(chunk) == \n",
    "            return\n",
    "    \n",
    "    def aug_csv():\n",
    "        for chunk in _spliter.get_chunks():\n",
    "            \n",
    "        return\n",
    "    \n",
    "    def aug_file():\n",
    "        return"
   ]
  },
  {
   "cell_type": "code",
   "execution_count": 44,
   "metadata": {},
   "outputs": [],
   "source": [
    "def _make_gen(reader):\n",
    "    b = reader(1024 * 1024)\n",
    "    while b:\n",
    "        yield b\n",
    "        b = reader(1024*1024)\n",
    "\n",
    "def rawgencount(filename):\n",
    "    f = open(filename, 'rb')\n",
    "    f_gen = _make_gen(f.raw.read)\n",
    "    return sum( buf.count(b'\\n') for buf in f_gen ) + 1"
   ]
  },
  {
   "cell_type": "code",
   "execution_count": 45,
   "metadata": {},
   "outputs": [
    {
     "name": "stdout",
     "output_type": "stream",
     "text": [
      "['Cython==0.27.1\\n', 'numpy==1.14.3\\n', 'lxml==4.1.1\\n', 'tqdm==4.19.5\\n', 'requests==2.18.4\\n', 'tensorflow==1.8.0\\n', 'overrides==1.9\\n', 'kenlm==0.0.0\\n', 'h5py==2.7.1\\n', 'keras==2.1.2\\n', 'gensim==2.3.0\\n', 'pandas==0.21.1\\n', 'fuzzywuzzy==0.16.0\\n', 'git+https://github.com/facebookresearch/fastText.git@3872afadb3a9f30de7c7792ff2ff1bda64242097\\n', 'nltk==3.2.5\\n', 'scikit-learn==0.19.0\\n', 'spacy==2.0.5\\n', 'pytelegrambotapi==3.5.2\\n', 'python-Levenshtein==0.12.0\\n', 'flask==0.12.2\\n', 'flasgger==0.6.6\\n', 'flask_cors==3.0.3\\n', 'scipy==1.0.0\\n', 'pymorphy2==0.8\\n', 'pymorphy2-dicts-ru\\n', 'sortedcontainers==2.0.2']\n"
     ]
    }
   ],
   "source": [
    "with open('requirements.txt', 'r') as f:\n",
    "    print((f.readlines()))"
   ]
  },
  {
   "cell_type": "code",
   "execution_count": 46,
   "metadata": {},
   "outputs": [
    {
     "data": {
      "text/plain": [
       "445"
      ]
     },
     "execution_count": 46,
     "metadata": {},
     "output_type": "execute_result"
    }
   ],
   "source": [
    "rawgencount('README.md')"
   ]
  },
  {
   "cell_type": "code",
   "execution_count": null,
   "metadata": {},
   "outputs": [],
   "source": []
  }
 ],
 "metadata": {
  "kernelspec": {
   "display_name": "Python 3",
   "language": "python",
   "name": "python3"
  },
  "language_info": {
   "codemirror_mode": {
    "name": "ipython",
    "version": 3
   },
   "file_extension": ".py",
   "mimetype": "text/x-python",
   "name": "python",
   "nbconvert_exporter": "python",
   "pygments_lexer": "ipython3",
   "version": "3.6.4"
  }
 },
 "nbformat": 4,
 "nbformat_minor": 2
}
